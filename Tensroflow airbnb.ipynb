{
 "cells": [
  {
   "cell_type": "markdown",
   "metadata": {},
   "source": [
    "# Import Library"
   ]
  },
  {
   "cell_type": "code",
   "execution_count": 68,
   "metadata": {},
   "outputs": [],
   "source": [
    "import tensorflow as tf\n",
    "import matplotlib.pyplot as plt\n",
    "import numpy as np\n",
    "import pandas as pd\n",
    "import seaborn as sns\n",
    "from tensorflow import keras\n",
    "from tensorflow.keras import layers\n",
    "from tensorflow.keras.layers.experimental import preprocessing\n",
    "## Import Packages\n",
    "import requests\n",
    "from bs4 import BeautifulSoup\n",
    "import pandas as pd\n",
    "from datetime import date,timedelta,datetime\n",
    "from scipy.sparse import csr_matrix, hstack\n",
    "from sklearn.model_selection import train_test_split\n",
    "import numpy as np\n",
    "from sklearn.linear_model import LinearRegression\n",
    "from sklearn.linear_model import Lasso\n",
    "from sklearn.linear_model import ElasticNet\n",
    "from sklearn.tree import DecisionTreeRegressor\n",
    "from sklearn.neighbors import KNeighborsRegressor\n",
    "from sklearn.svm import SVR\n",
    "from sklearn.ensemble import RandomForestRegressor\n",
    "from sklearn.ensemble import ExtraTreesRegressor\n",
    "from sklearn.metrics import mean_absolute_error\n",
    "from sklearn.model_selection import train_test_split\n",
    "from sklearn.metrics import mean_absolute_error\n",
    "from dateutil.relativedelta import *\n",
    "\n",
    "# example of training a final regression model\n",
    "from tensorflow.keras.models import Sequential\n",
    "from tensorflow.keras.layers import Dense\n",
    "from tensorflow.keras.optimizers import Adam\n",
    "from tensorflow.keras.layers import Dropout\n",
    "from sklearn.datasets import make_regression\n",
    "from sklearn.preprocessing import MinMaxScaler\n"
   ]
  },
  {
   "cell_type": "markdown",
   "metadata": {},
   "source": [
    "# Get Data"
   ]
  },
  {
   "cell_type": "code",
   "execution_count": 134,
   "metadata": {},
   "outputs": [],
   "source": [
    "\n",
    "#Parameters\n",
    "## Date\n",
    "today = date.today()\n",
    "firstmonth = today + relativedelta(months=+1)\n",
    "firstmonth =  firstmonth+relativedelta(day=1)\n",
    "lastmonth = today + relativedelta(months=+2)\n",
    "lastmonth =  lastmonth+relativedelta(day=1)\n",
    "firstmonth = firstmonth.strftime(\"%Y-%m-%d\")\n",
    "lastmonth = lastmonth.strftime(\"%Y-%m-%d\")\n",
    "## Airbnb Page\n",
    "page = requests.get(\"https://www.airbnb.fr/s/Acapulco--Mexique/homes?adults=1&refinement_paths%5B%5D=%2Fhomes&checkin=\"+firstmonth+\"&checkout=\"+lastmonth+\"&flexible_trip_dates%5B%5D=june&flexible_trip_dates%5B%5D=may&flexible_trip_lengths%5B%5D=weekend_trip&date_picker_type=calendar&click_referer=t%3ASEE_ALL%7Csid%3A9697aa3c-ab8b-43c2-ab38-348402f77282%7Cst%3AHOME_GROUPING_FLEXIBLE_DATES&flexible_date_search_filter_type=0&title_type=NONE&search_type=pagination&tab_id=home_tab&ne_lat=16.931993582281493&ne_lng=-99.37419621313472&sw_lat=16.434084058683805&sw_lng=-100.07663456762691&zoom=11&search_by_map=true&place_id=ChIJyVDOroVXyoUR46SQivfYAZg&federated_search_session_id=251bdd36-3fe8-40af-9424-990ab890ca12&items_offset=0&section_offset=3\")\n",
    "soup = BeautifulSoup(page.content,'html.parser')\n",
    "airbnbpage = soup.find_all('div',class_='_1h559tl')\n",
    "airbnbpg = airbnbpage[0].text\n",
    "airbnbpg = airbnbpg[4:6]\n",
    "airbnbpg = int(airbnbpg)\n",
    "## List initialization\n",
    "pricelist,namelist,travellerlist,roomlist,bedlist,sdblist = [],[],[],[],[],[]\n",
    "option1list,option2list,option3list,option4list = [],[],[],[]\n",
    "\n",
    "# Web Scrapping for all the pages\n",
    "for pages in range(0, 25*airbnbpg, 25):\n",
    "    # Web scrapping request\n",
    "    page = requests.get(\"https://www.airbnb.fr/s/Acapulco--Mexique/homes?adults=1&refinement_paths%5B%5D=%2Fhomes&checkin=\"+firstmonth+\"&checkout=\"+lastmonth+\"&flexible_trip_dates%5B%5D=june&flexible_trip_dates%5B%5D=may&flexible_trip_lengths%5B%5D=weekend_trip&date_picker_type=calendar&click_referer=t%3ASEE_ALL%7Csid%3A9697aa3c-ab8b-43c2-ab38-348402f77282%7Cst%3AHOME_GROUPING_FLEXIBLE_DATES&flexible_date_search_filter_type=0&title_type=NONE&search_type=pagination&tab_id=home_tab&ne_lat=16.931993582281493&ne_lng=-99.37419621313472&sw_lat=16.434084058683805&sw_lng=-100.07663456762691&zoom=11&search_by_map=true&place_id=ChIJyVDOroVXyoUR46SQivfYAZg&federated_search_session_id=251bdd36-3fe8-40af-9424-990ab890ca12&items_offset=\"+str(pages)+\"&section_offset=3\")\n",
    "    # SOUP\n",
    "    soup = BeautifulSoup(page.content,'html.parser')\n",
    "    airbnbdata = soup.find_all('div',class_='_gig1e7')\n",
    "    i = 0\n",
    "    while i < len(airbnbdata):\n",
    "        j=0\n",
    "        #Name \n",
    "        nameairbnb = airbnbdata[i].find('span',class_='_1whrsux9').text\n",
    "        namelist.append(nameairbnb)\n",
    "        #Price\n",
    "        priceairbnb = airbnbdata[i].find('span',class_='_krjbj').text\n",
    "        pricelist.append(priceairbnb)\n",
    "        #Place Data\n",
    "        place = airbnbdata[i].find_all('div',class_='_kqh46o')[0]\n",
    "        place2 = airbnbdata[i].find_all('div',class_='_kqh46o')[1]\n",
    "        #Traveller\n",
    "        traveller = place.find_all('span')[0].text\n",
    "        travellerlist.append(traveller)\n",
    "        room = place.find_all('span')[2].text\n",
    "        roomlist.append(room) \n",
    "        bed = place.find_all('span')[4].text\n",
    "        bedlist.append(bed)\n",
    "        try:\n",
    "            sdb = place.find_all('span')[6].text\n",
    "            sdblist.append(sdb)\n",
    "        except:\n",
    "            sdblist.append(0)\n",
    "            pass\n",
    "        #Options\n",
    "        option1 = place2.find_all('span')[0].text\n",
    "        option1list.append(option1)\n",
    "        try:\n",
    "            option2 = place2.find_all('span')[2].text\n",
    "            option2list.append(option2) \n",
    "        except:\n",
    "            option2list.append(0)\n",
    "        try:\n",
    "            option3 = place2.find_all('span')[4].text\n",
    "            option3list.append(option3)\n",
    "        except:\n",
    "            option3list.append(0)\n",
    "        try:\n",
    "            option4 = place2.find_all('span')[6].text\n",
    "            option4list.append(option4)\n",
    "        except:\n",
    "            option4list.append(0)\n",
    "\n",
    "\n",
    "        i += 1\n",
    "\n",
    "# Dataframe        \n",
    "df_month = pd.DataFrame({\"Title\":namelist,\n",
    "                   \"Traveller\":travellerlist,\n",
    "                   \"Room\":roomlist,\n",
    "                   \"Bed\":bedlist,\n",
    "                   'Bathroom':sdblist,\n",
    "                   'Piscine1':option1list,\n",
    "                   'Wifi1':option2list,\n",
    "                   'Climatisation1':option3list,\n",
    "                   'Cuisine1':option4list,\n",
    "                   'Price':pricelist\n",
    "                  })\n",
    "\n",
    "#Take first letter and change data type\n",
    "df_month['Traveller'] = df_month['Traveller'].astype(str).str[0]\n",
    "df_month['Traveller'] = pd.to_numeric(df_month['Traveller'])\n",
    "df_month['Room'] = df_month['Room'].astype(str).str[0]\n",
    "#Check if No bed but only Studio\n",
    "df_month['Room'] = df_month['Room'].str.replace('S','0')\n",
    "df_month['Room'] = pd.to_numeric(df_month['Room'])\n",
    "df_month['Bed'] = df_month['Bed'].astype(str).str[0]\n",
    "df_month['Bed'] = pd.to_numeric(df_month['Bed'])\n",
    "#Erase useless space\n",
    "df_month['Price'] = df_month['Price'].str.split(\" \", n = 1, expand = True)\n",
    "df_month.loc[df_month['Price'].str.len() == 6 , 'Price']  = df_month['Price'].str[0] +df_month['Price'].str[2:]\n",
    "df_month.loc[df_month['Price'].str.len() == 7 , 'Price']  = df_month['Price'].str[:1] +df_month['Price'].str[3:]\n",
    "df_month['Price'] = df_month['Price'].astype(str).str[:-1]\n",
    "df_month['Price'] = pd.to_numeric(df_month['Price'])\n",
    "\n",
    "#Check if half bathroom\n",
    "df_month.loc[df_month['Bathroom'].str[2] == 's', 'Bathroom']  = df_month['Bathroom'].str[0]\n",
    "df_month.loc[df_month['Bathroom'].str[2] == ' ', 'Bathroom']  = df_month['Bathroom'].str[:1]\n",
    "df_month.loc[df_month['Bathroom'].str[2] == '5', 'Bathroom']  = df_month['Bathroom'].str[:3]\n",
    "df_month['Bathroom'] = df_month['Bathroom'].str.replace(',','.')\n",
    "df_month['Bathroom'] = pd.to_numeric(df_month['Bathroom'])\n",
    "    \n",
    "#Check Options\n",
    "#Piscine column\n",
    "df_month.loc[df_month['Piscine1'] == 'Cuisine', 'Cuisine1']  = 'Cuisine'\n",
    "df_month.loc[df_month['Piscine1'] == 'Climatisation', 'Climatisation1']  = 'Climatisation'\n",
    "df_month.loc[df_month['Piscine1'] == 'Wifi', 'Wifi1']  = 'Wifi'\n",
    "#Wifi Column\n",
    "df_month.loc[df_month['Wifi1'] == 'Cuisine', 'Cuisine1']  = 'Cuisine'\n",
    "df_month.loc[df_month['Wifi1'] == 'Climatisation', 'Climatisation1']  = 'Climatisation'\n",
    "#Clim column\n",
    "df_month.loc[df_month['Climatisation1'] == 'Cuisine', 'Cuisine1']  = 'Cuisine'\n",
    "\n",
    "#Change to dummy\n",
    "df_month.loc[df_month['Piscine1'] == 'Piscine', 'Piscine']  = 1\n",
    "df_month.loc[df_month['Piscine1'] != 'Piscine', 'Piscine']  = 0\n",
    "df_month.loc[df_month['Wifi1'] == 'Wifi', 'Wifi']  = 1\n",
    "df_month.loc[df_month['Wifi1'] != 'Wifi', 'Wifi']  = 0\n",
    "df_month.loc[df_month['Climatisation1'] == 'Climatisation', 'Climatisation']  = 1\n",
    "df_month.loc[df_month['Climatisation1'] != 'Climatisation', 'Climatisation']  = 0\n",
    "df_month.loc[df_month['Cuisine1'] == 'Cuisine', 'Cuisine']  = 1\n",
    "df_month.loc[df_month['Cuisine1'] != 'Cuisine', 'Cuisine']  = 0\n",
    "\n",
    "#Drop Useless Columns\n",
    "df_month = df_month.drop(columns=['Piscine1','Wifi1','Climatisation1','Cuisine1'])\n",
    "#Reorder Columns\n",
    "df_month = df_month[['Title','Traveller','Room','Bed','Bathroom','Piscine','Wifi','Climatisation','Cuisine','Price']]\n",
    "#If NaN\n",
    "df_month = df_month.fillna(0)\n",
    "df_month = df_month.loc[df_month['Price'] < 10000]\n",
    "\n"
   ]
  },
  {
   "cell_type": "markdown",
   "metadata": {},
   "source": [
    "# Check Data"
   ]
  },
  {
   "cell_type": "code",
   "execution_count": 154,
   "metadata": {},
   "outputs": [],
   "source": [
    "train_dataset = df_month.sample(frac=0.8, random_state=0)\n",
    "train_dataset = train_dataset[['Traveller','Room','Bed','Bathroom','Piscine','Wifi','Climatisation','Cuisine','Price']]\n",
    "test_dataset = df_month.drop(train_dataset.index)\n",
    "test_dataset = test_dataset[['Traveller','Room','Bed','Bathroom','Piscine','Wifi','Climatisation','Cuisine','Price']]\n",
    "train_labels = train_dataset.pop('Price')\n",
    "test_labels = test_dataset.pop('Price')"
   ]
  },
  {
   "cell_type": "code",
   "execution_count": 140,
   "metadata": {},
   "outputs": [],
   "source": [
    "train_stats = train_dataset.describe()\n",
    "train_stats = train_stats.transpose()\n",
    "\n",
    "def norm(x):\n",
    "  return (x - train_stats['mean']) / train_stats['std']\n",
    "normed_train_data = norm(train_dataset)\n",
    "normed_test_data = norm(test_dataset)\n",
    "\n",
    "def build_model():\n",
    "  model = keras.Sequential([\n",
    "    layers.Dense(16, activation='relu', input_shape=[len(train_dataset.keys())]),\n",
    "    layers.Dense(16, activation='relu'),\n",
    "    layers.Dense(1)\n",
    "  ])\n",
    "\n",
    "  optimizer = tf.keras.optimizers.RMSprop(0.001)\n",
    "\n",
    "  model.compile(loss='mse',\n",
    "                optimizer=optimizer,\n",
    "                metrics=['mae', 'mse'])\n",
    "  return model\n"
   ]
  },
  {
   "cell_type": "code",
   "execution_count": 155,
   "metadata": {},
   "outputs": [
    {
     "name": "stdout",
     "output_type": "stream",
     "text": [
      "     Traveller  Room  Bed  Bathroom  Piscine  Wifi  Climatisation  Cuisine\n",
      "0            4     1    3       1.0      1.0   0.0            1.0      0.0\n",
      "9            2     1    0       1.0      1.0   1.0            0.0      1.0\n",
      "23           5     2    4       2.0      1.0   1.0            1.0      1.0\n",
      "28           5     3    6       2.5      1.0   1.0            1.0      1.0\n",
      "42           5     2    3       2.0      1.0   1.0            1.0      1.0\n",
      "..         ...   ...  ...       ...      ...   ...            ...      ...\n",
      "534          6     2    4       2.0      1.0   1.0            1.0      1.0\n",
      "537          6     1    4       1.0      1.0   0.0            1.0      0.0\n",
      "547          6     2    4       2.0      1.0   1.0            1.0      1.0\n",
      "551          6     2    3       2.0      1.0   1.0            1.0      1.0\n",
      "559          3     0    2       1.0      0.0   1.0            0.0      1.0\n",
      "\n",
      "[113 rows x 8 columns]\n"
     ]
    }
   ],
   "source": [
    "train_dataset.describe().transpose()[['mean', 'std','min','25%','50%','75%','max']]"
   ]
  },
  {
   "cell_type": "markdown",
   "metadata": {},
   "source": [
    "# Train Data"
   ]
  },
  {
   "cell_type": "code",
   "execution_count": 142,
   "metadata": {},
   "outputs": [
    {
     "name": "stdout",
     "output_type": "stream",
     "text": [
      "Model: \"sequential_8\"\n",
      "_________________________________________________________________\n",
      "Layer (type)                 Output Shape              Param #   \n",
      "=================================================================\n",
      "dense_14 (Dense)             (None, 16)                144       \n",
      "_________________________________________________________________\n",
      "dense_15 (Dense)             (None, 16)                272       \n",
      "_________________________________________________________________\n",
      "dense_16 (Dense)             (None, 1)                 17        \n",
      "=================================================================\n",
      "Total params: 433\n",
      "Trainable params: 433\n",
      "Non-trainable params: 0\n",
      "_________________________________________________________________\n"
     ]
    }
   ],
   "source": [
    "# define the keras model\n",
    "model = build_model();\n",
    "model.summary()"
   ]
  },
  {
   "cell_type": "code",
   "execution_count": 143,
   "metadata": {},
   "outputs": [
    {
     "name": "stdout",
     "output_type": "stream",
     "text": [
      "\n",
      "....................................................................................................\n",
      ".............................................................................."
     ]
    }
   ],
   "source": [
    "# Display training progress by printing a single dot for each completed epoch\n",
    "class PrintDot(keras.callbacks.Callback):\n",
    "  def on_epoch_end(self, epoch, logs):\n",
    "    if epoch % 100 == 0: print('')\n",
    "    print('.', end='')\n",
    "\n",
    "EPOCHS = 1000\n",
    "# The patience parameter is the amount of epochs to check for improvement\n",
    "early_stop = keras.callbacks.EarlyStopping(monitor='val_loss', patience=10)\n",
    "\n",
    "history = model.fit(\n",
    "  normed_train_data, train_labels,\n",
    "  epochs=EPOCHS, validation_split = 0.2, verbose=0,\n",
    "  callbacks=[early_stop,PrintDot()])"
   ]
  },
  {
   "cell_type": "code",
   "execution_count": 144,
   "metadata": {},
   "outputs": [
    {
     "data": {
      "text/html": [
       "<div>\n",
       "<style scoped>\n",
       "    .dataframe tbody tr th:only-of-type {\n",
       "        vertical-align: middle;\n",
       "    }\n",
       "\n",
       "    .dataframe tbody tr th {\n",
       "        vertical-align: top;\n",
       "    }\n",
       "\n",
       "    .dataframe thead th {\n",
       "        text-align: right;\n",
       "    }\n",
       "</style>\n",
       "<table border=\"1\" class=\"dataframe\">\n",
       "  <thead>\n",
       "    <tr style=\"text-align: right;\">\n",
       "      <th></th>\n",
       "      <th>loss</th>\n",
       "      <th>mae</th>\n",
       "      <th>mse</th>\n",
       "      <th>val_loss</th>\n",
       "      <th>val_mae</th>\n",
       "      <th>val_mse</th>\n",
       "      <th>epoch</th>\n",
       "    </tr>\n",
       "  </thead>\n",
       "  <tbody>\n",
       "    <tr>\n",
       "      <td>173</td>\n",
       "      <td>461773.46875</td>\n",
       "      <td>465.087311</td>\n",
       "      <td>461773.46875</td>\n",
       "      <td>574565.1250</td>\n",
       "      <td>510.828217</td>\n",
       "      <td>574565.1250</td>\n",
       "      <td>173</td>\n",
       "    </tr>\n",
       "    <tr>\n",
       "      <td>174</td>\n",
       "      <td>461416.03125</td>\n",
       "      <td>465.026733</td>\n",
       "      <td>461416.03125</td>\n",
       "      <td>574598.2500</td>\n",
       "      <td>511.346527</td>\n",
       "      <td>574598.2500</td>\n",
       "      <td>174</td>\n",
       "    </tr>\n",
       "    <tr>\n",
       "      <td>175</td>\n",
       "      <td>460889.71875</td>\n",
       "      <td>465.570801</td>\n",
       "      <td>460889.71875</td>\n",
       "      <td>575008.3750</td>\n",
       "      <td>511.503784</td>\n",
       "      <td>575008.3750</td>\n",
       "      <td>175</td>\n",
       "    </tr>\n",
       "    <tr>\n",
       "      <td>176</td>\n",
       "      <td>460293.84375</td>\n",
       "      <td>464.859589</td>\n",
       "      <td>460293.84375</td>\n",
       "      <td>575462.4375</td>\n",
       "      <td>511.709320</td>\n",
       "      <td>575462.4375</td>\n",
       "      <td>176</td>\n",
       "    </tr>\n",
       "    <tr>\n",
       "      <td>177</td>\n",
       "      <td>459599.71875</td>\n",
       "      <td>464.511169</td>\n",
       "      <td>459599.71875</td>\n",
       "      <td>575269.4375</td>\n",
       "      <td>512.161865</td>\n",
       "      <td>575269.4375</td>\n",
       "      <td>177</td>\n",
       "    </tr>\n",
       "  </tbody>\n",
       "</table>\n",
       "</div>"
      ],
      "text/plain": [
       "             loss         mae           mse     val_loss     val_mae  \\\n",
       "173  461773.46875  465.087311  461773.46875  574565.1250  510.828217   \n",
       "174  461416.03125  465.026733  461416.03125  574598.2500  511.346527   \n",
       "175  460889.71875  465.570801  460889.71875  575008.3750  511.503784   \n",
       "176  460293.84375  464.859589  460293.84375  575462.4375  511.709320   \n",
       "177  459599.71875  464.511169  459599.71875  575269.4375  512.161865   \n",
       "\n",
       "         val_mse  epoch  \n",
       "173  574565.1250    173  \n",
       "174  574598.2500    174  \n",
       "175  575008.3750    175  \n",
       "176  575462.4375    176  \n",
       "177  575269.4375    177  "
      ]
     },
     "execution_count": 144,
     "metadata": {},
     "output_type": "execute_result"
    }
   ],
   "source": [
    "hist = pd.DataFrame(history.history)\n",
    "hist['epoch'] = history.epoch\n",
    "hist.tail()"
   ]
  },
  {
   "cell_type": "code",
   "execution_count": 145,
   "metadata": {},
   "outputs": [
    {
     "data": {
      "image/png": "[encoded data removed]",
      "text/plain": [
       "<Figure size 432x288 with 1 Axes>"
      ]
     },
     "metadata": {
      "needs_background": "light"
     },
     "output_type": "display_data"
    },
    {
     "data": {
      "image/png": "[encoded data removed]",
      "text/plain": [
       "<Figure size 432x288 with 1 Axes>"
      ]
     },
     "metadata": {
      "needs_background": "light"
     },
     "output_type": "display_data"
    }
   ],
   "source": [
    "def plot_history(history):\n",
    "  hist = pd.DataFrame(history.history)\n",
    "  hist['epoch'] = history.epoch\n",
    "\n",
    "  plt.figure()\n",
    "  plt.xlabel('Epoch')\n",
    "  plt.ylabel('Mean Abs Error [MEDV]')\n",
    "  plt.plot(hist['epoch'], hist['mae'],\n",
    "           label='Train Error')\n",
    "  plt.plot(hist['epoch'], hist['val_mae'],\n",
    "           label = 'Val Error')\n",
    "  plt.ylim([0,1000])\n",
    "  plt.legend()\n",
    "\n",
    "  plt.figure()\n",
    "  plt.xlabel('Epoch')\n",
    "  plt.ylabel('Mean Square Error [$MEDV^2$]')\n",
    "  plt.plot(hist['epoch'], hist['mse'],\n",
    "           label='Train Error')\n",
    "  plt.plot(hist['epoch'], hist['val_mse'],\n",
    "           label = 'Val Error')\n",
    "  plt.ylim([0,1000000])\n",
    "  plt.legend()\n",
    "  plt.show()\n",
    "\n",
    "\n",
    "plot_history(history)"
   ]
  },
  {
   "cell_type": "code",
   "execution_count": 146,
   "metadata": {},
   "outputs": [
    {
     "name": "stdout",
     "output_type": "stream",
     "text": [
      "4/4 - 0s - loss: 464677.8750 - mae: 476.1070 - mse: 464677.8750\n",
      "Testing set Mean Abs Error: 476.11 MEDV\n"
     ]
    }
   ],
   "source": [
    "loss, mae, mse = model.evaluate(normed_test_data, test_labels, verbose=2)\n",
    "\n",
    "print(\"Testing set Mean Abs Error: {:5.2f} MEDV\".format(mae))"
   ]
  },
  {
   "cell_type": "markdown",
   "metadata": {},
   "source": [
    "# Prediction"
   ]
  },
  {
   "cell_type": "code",
   "execution_count": 172,
   "metadata": {},
   "outputs": [
    {
     "name": "stdout",
     "output_type": "stream",
     "text": [
      "      Prediction  Reality  Difference\n",
      "0     231.630005      555      323.37\n",
      "1     815.869995      154     -661.87\n",
      "2    1384.560059     1304      -80.56\n",
      "3    1863.949951      871     -992.95\n",
      "4    1360.689941      933     -427.69\n",
      "..           ...      ...         ...\n",
      "108  1426.380005     1735      308.62\n",
      "109   148.889999     1078      929.11\n",
      "110  1426.380005     1151     -275.38\n",
      "111  1370.530029     2730     1359.47\n",
      "112   779.900024      797       17.10\n",
      "\n",
      "[113 rows x 3 columns]\n"
     ]
    }
   ],
   "source": [
    "normed_test_data = norm(test_dataset)\n",
    "test_predictions = model.predict(normed_test_data).flatten()\n",
    "rounded = [np.round(x) for x in test_predictions]\n",
    "result = pd.DataFrame({\"Prediction\":test_predictions,\n",
    "                       \"Reality\":test_labels.values,\n",
    "                       \"Difference\":test_labels.values - test_predictions})\n",
    "result.Prediction = round(result.Prediction,2)\n",
    "result = result.round(2)\n",
    "print(result)\n",
    "#print('Prediction : ',test_predictions,' VS Reality', test_labels.values)"
   ]
  },
  {
   "cell_type": "code",
   "execution_count": 174,
   "metadata": {},
   "outputs": [
    {
     "name": "stdout",
     "output_type": "stream",
     "text": [
      "53800.13000000001\n"
     ]
    }
   ],
   "source": [
    "print(sum(abs(result.Difference)))"
   ]
  },
  {
   "cell_type": "code",
   "execution_count": 171,
   "metadata": {},
   "outputs": [
    {
     "name": "stdout",
     "output_type": "stream",
     "text": [
      "[1502.2943]\n"
     ]
    }
   ],
   "source": [
    "#Insert your appartment\n",
    "X_pred = pd.DataFrame({\"Traveller\":4,\n",
    "                   \"Room\":4,\n",
    "                   \"Bed\":3,\n",
    "                   'Bathroom':2,\n",
    "                   'Piscine':1,\n",
    "                   'Wifi':1,\n",
    "                   'Climatisation':1,\n",
    "                   'Cuisine':1}, index=[0]\n",
    "                     )\n",
    "normed_test_data = norm(X_pred)\n",
    "predictions = model.predict(normed_test_data).flatten()\n",
    "\n",
    "print(predictions)"
   ]
  },
  {
   "cell_type": "markdown",
   "metadata": {},
   "source": [
    "# Optimization"
   ]
  },
  {
   "cell_type": "code",
   "execution_count": null,
   "metadata": {},
   "outputs": [
    {
     "name": "stdout",
     "output_type": "stream",
     "text": [
      "Layer1 10 Layer2 10  Test result differences  50478.34\n",
      "Layer1 10 Layer2 12  Test result differences  49724.02\n",
      "Layer1 10 Layer2 13  Test result differences  48798.63\n"
     ]
    }
   ],
   "source": [
    "best = 0\n",
    "best_layer1,best_layer2 = [],[]\n",
    "def norm(x):\n",
    "  return (x - train_stats['mean']) / train_stats['std']\n",
    "normed_train_data = norm(train_dataset)\n",
    "normed_test_data = norm(test_dataset)\n",
    "\n",
    "def build_model(layer1,layer2):\n",
    "  model = keras.Sequential([\n",
    "    layers.Dense(layer1, activation='relu', input_shape=[len(train_dataset.keys())]),\n",
    "    layers.Dense(layer2, activation='relu'),\n",
    "    layers.Dense(1)\n",
    "  ])\n",
    "\n",
    "  optimizer = tf.keras.optimizers.RMSprop(0.001)\n",
    "\n",
    "  model.compile(loss='mse',\n",
    "                optimizer=optimizer,\n",
    "                metrics=['mae', 'mse'])\n",
    "  return model\n",
    "\n",
    "# define the keras model\n",
    "for i in range(10,40):\n",
    "    for j in range(10,40):\n",
    "        model = build_model(i,j);\n",
    "        #model.summary()\n",
    "        EPOCHS = 1000\n",
    "        # The patience parameter is the amount of epochs to check for improvement\n",
    "        early_stop = keras.callbacks.EarlyStopping(monitor='val_loss', patience=10)\n",
    "\n",
    "        history = model.fit(\n",
    "          normed_train_data, train_labels,\n",
    "          epochs=EPOCHS, validation_split = 0.2, verbose=0,\n",
    "          callbacks=[early_stop])\n",
    "\n",
    "        normed_test_data = norm(test_dataset)\n",
    "        test_predictions = model.predict(normed_test_data).flatten()\n",
    "        rounded = [np.round(x) for x in test_predictions]\n",
    "        result = pd.DataFrame({\"Prediction\":test_predictions,\n",
    "                               \"Reality\":test_labels.values,\n",
    "                               \"Difference\":test_labels.values - test_predictions})\n",
    "        result.Prediction = round(result.Prediction,2)\n",
    "        result = result.round(2)\n",
    "        result = sum(abs(result.Difference))\n",
    "        if best > result or best == 0:\n",
    "            best = result\n",
    "            print('Layer1', i , 'Layer2', j , ' Test result differences ', round(best,2))\n",
    "            best_layer1.append(i)\n",
    "            best_layer2.append(j)"
   ]
  },
  {
   "cell_type": "code",
   "execution_count": 190,
   "metadata": {},
   "outputs": [
    {
     "name": "stdout",
     "output_type": "stream",
     "text": [
      "19\n",
      "WARNING:tensorflow:5 out of the last 11 calls to <function Model.make_predict_function.<locals>.predict_function at 0x0000025120580AF8> triggered tf.function retracing. Tracing is expensive and the excessive number of tracings could be due to (1) creating @tf.function repeatedly in a loop, (2) passing tensors with different shapes, (3) passing Python objects instead of tensors. For (1), please define your @tf.function outside of the loop. For (2), @tf.function has experimental_relax_shapes=True option that relaxes argument shapes that can avoid unnecessary retracing. For (3), please refer to https://www.tensorflow.org/guide/function#controlling_retracing and https://www.tensorflow.org/api_docs/python/tf/function for  more details.\n",
      "[0.33671355]\n"
     ]
    }
   ],
   "source": [
    "model = build_model(best_layer1[-1],best_layer2[-1])"
   ]
  },
  {
   "cell_type": "code",
   "execution_count": 177,
   "metadata": {},
   "outputs": [
    {
     "data": {
      "text/html": [
       "<div>\n",
       "<style scoped>\n",
       "    .dataframe tbody tr th:only-of-type {\n",
       "        vertical-align: middle;\n",
       "    }\n",
       "\n",
       "    .dataframe tbody tr th {\n",
       "        vertical-align: top;\n",
       "    }\n",
       "\n",
       "    .dataframe thead th {\n",
       "        text-align: right;\n",
       "    }\n",
       "</style>\n",
       "<table border=\"1\" class=\"dataframe\">\n",
       "  <thead>\n",
       "    <tr style=\"text-align: right;\">\n",
       "      <th></th>\n",
       "      <th>Prediction</th>\n",
       "      <th>Reality</th>\n",
       "      <th>Difference</th>\n",
       "    </tr>\n",
       "  </thead>\n",
       "  <tbody>\n",
       "    <tr>\n",
       "      <td>0</td>\n",
       "      <td>680.289978</td>\n",
       "      <td>555</td>\n",
       "      <td>-125.29</td>\n",
       "    </tr>\n",
       "    <tr>\n",
       "      <td>1</td>\n",
       "      <td>971.219971</td>\n",
       "      <td>154</td>\n",
       "      <td>-817.22</td>\n",
       "    </tr>\n",
       "    <tr>\n",
       "      <td>2</td>\n",
       "      <td>1403.199951</td>\n",
       "      <td>1304</td>\n",
       "      <td>-99.20</td>\n",
       "    </tr>\n",
       "    <tr>\n",
       "      <td>3</td>\n",
       "      <td>1771.140015</td>\n",
       "      <td>871</td>\n",
       "      <td>-900.14</td>\n",
       "    </tr>\n",
       "    <tr>\n",
       "      <td>4</td>\n",
       "      <td>1422.989990</td>\n",
       "      <td>933</td>\n",
       "      <td>-489.99</td>\n",
       "    </tr>\n",
       "    <tr>\n",
       "      <td>...</td>\n",
       "      <td>...</td>\n",
       "      <td>...</td>\n",
       "      <td>...</td>\n",
       "    </tr>\n",
       "    <tr>\n",
       "      <td>108</td>\n",
       "      <td>1446.219971</td>\n",
       "      <td>1735</td>\n",
       "      <td>288.78</td>\n",
       "    </tr>\n",
       "    <tr>\n",
       "      <td>109</td>\n",
       "      <td>506.399994</td>\n",
       "      <td>1078</td>\n",
       "      <td>571.60</td>\n",
       "    </tr>\n",
       "    <tr>\n",
       "      <td>110</td>\n",
       "      <td>1446.219971</td>\n",
       "      <td>1151</td>\n",
       "      <td>-295.22</td>\n",
       "    </tr>\n",
       "    <tr>\n",
       "      <td>111</td>\n",
       "      <td>1442.430054</td>\n",
       "      <td>2730</td>\n",
       "      <td>1287.57</td>\n",
       "    </tr>\n",
       "    <tr>\n",
       "      <td>112</td>\n",
       "      <td>701.400024</td>\n",
       "      <td>797</td>\n",
       "      <td>95.60</td>\n",
       "    </tr>\n",
       "  </tbody>\n",
       "</table>\n",
       "<p>113 rows × 3 columns</p>\n",
       "</div>"
      ],
      "text/plain": [
       "      Prediction  Reality  Difference\n",
       "0     680.289978      555     -125.29\n",
       "1     971.219971      154     -817.22\n",
       "2    1403.199951     1304      -99.20\n",
       "3    1771.140015      871     -900.14\n",
       "4    1422.989990      933     -489.99\n",
       "..           ...      ...         ...\n",
       "108  1446.219971     1735      288.78\n",
       "109   506.399994     1078      571.60\n",
       "110  1446.219971     1151     -295.22\n",
       "111  1442.430054     2730     1287.57\n",
       "112   701.400024      797       95.60\n",
       "\n",
       "[113 rows x 3 columns]"
      ]
     },
     "execution_count": 177,
     "metadata": {},
     "output_type": "execute_result"
    }
   ],
   "source": [
    "#Insert your appartment\n",
    "X_pred = pd.DataFrame({\"Traveller\":4,\n",
    "                   \"Room\":4,\n",
    "                   \"Bed\":3,\n",
    "                   'Bathroom':2,\n",
    "                   'Piscine':1,\n",
    "                   'Wifi':1,\n",
    "                   'Climatisation':1,\n",
    "                   'Cuisine':1}, index=[0]\n",
    "                     )\n",
    "normed_test_data = norm(X_pred)\n",
    "predictions = model.predict(normed_test_data).flatten()\n",
    "\n",
    "print(predictions)"
   ]
  },
  {
   "cell_type": "code",
   "execution_count": null,
   "metadata": {},
   "outputs": [],
   "source": []
  }
 ],
 "metadata": {
  "kernelspec": {
   "display_name": "Python 3",
   "language": "python",
   "name": "python3"
  },
  "language_info": {
   "codemirror_mode": {
    "name": "ipython",
    "version": 3
   },
   "file_extension": ".py",
   "mimetype": "text/x-python",
   "name": "python",
   "nbconvert_exporter": "python",
   "pygments_lexer": "ipython3",
   "version": "3.7.4"
  }
 },
 "nbformat": 4,
 "nbformat_minor": 2
}
